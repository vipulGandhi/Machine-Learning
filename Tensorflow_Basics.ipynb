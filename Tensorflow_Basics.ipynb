{
  "nbformat": 4,
  "nbformat_minor": 0,
  "metadata": {
    "colab": {
      "name": "Tensorflow Basics.ipynb",
      "version": "0.3.2",
      "provenance": [],
      "collapsed_sections": [],
      "include_colab_link": true
    },
    "kernelspec": {
      "name": "python3",
      "display_name": "Python 3"
    }
  },
  "cells": [
    {
      "cell_type": "markdown",
      "metadata": {
        "id": "view-in-github",
        "colab_type": "text"
      },
      "source": [
        "<a href=\"https://colab.research.google.com/github/vipulGandhi/Machine-Learning/blob/master/Tensorflow_Basics.ipynb\" target=\"_parent\"><img src=\"https://colab.research.google.com/assets/colab-badge.svg\" alt=\"Open In Colab\"/></a>"
      ]
    },
    {
      "metadata": {
        "id": "eBcDNJeRM9-8",
        "colab_type": "text"
      },
      "cell_type": "markdown",
      "source": [
        "**Tensorflow Basic Session Tutorial**"
      ]
    },
    {
      "metadata": {
        "id": "pnDXejzuLL0p",
        "colab_type": "code",
        "outputId": "9164f9c6-06e8-4e4b-eea3-30faaf3f5579",
        "colab": {
          "base_uri": "https://localhost:8080/",
          "height": 85
        }
      },
      "cell_type": "code",
      "source": [
        "import tensorflow as tf\n",
        "import numpy as np\n",
        "from googlecolab_tensorboard_utils import *\n",
        "print(tf.__version__)\n",
        "print(np.__version__)"
      ],
      "execution_count": 0,
      "outputs": [
        {
          "output_type": "stream",
          "text": [
            "Can't get public url, retrying...\n",
            "Open http://6daa91c3.ngrok.io to access your 6006 port\n",
            "1.12.0\n",
            "1.14.6\n"
          ],
          "name": "stdout"
        }
      ]
    },
    {
      "metadata": {
        "id": "Qno5VG42L8PH",
        "colab_type": "code",
        "colab": {}
      },
      "cell_type": "code",
      "source": [
        "tf.reset_default_graph()\n",
        "a = tf.placeholder(tf.float32, (2,2))\n",
        "b = np.ones((2,2), dtype = np.float32)\n",
        "tf.get_variable('b', initializer=b)\n",
        "c = a + b"
      ],
      "execution_count": 0,
      "outputs": []
    },
    {
      "metadata": {
        "id": "qFNqJZyrMM-y",
        "colab_type": "code",
        "outputId": "27360b7f-d2b0-4dca-f0a5-47a39ff9d109",
        "colab": {
          "base_uri": "https://localhost:8080/",
          "height": 34
        }
      },
      "cell_type": "code",
      "source": [
        "print(c)"
      ],
      "execution_count": 0,
      "outputs": [
        {
          "output_type": "stream",
          "text": [
            "Tensor(\"add:0\", shape=(2, 2), dtype=float32)\n"
          ],
          "name": "stdout"
        }
      ]
    },
    {
      "metadata": {
        "id": "1RkVtisGR1yA",
        "colab_type": "code",
        "colab": {}
      },
      "cell_type": "code",
      "source": [
        "sess = tf.InteractiveSession()"
      ],
      "execution_count": 0,
      "outputs": []
    },
    {
      "metadata": {
        "id": "-myam6GWUx4G",
        "colab_type": "code",
        "outputId": "1acf5d7c-8622-4040-ace0-34b8996b3a6f",
        "colab": {
          "base_uri": "https://localhost:8080/",
          "height": 51
        }
      },
      "cell_type": "code",
      "source": [
        "sess.run(tf.global_variables_initializer())\n",
        "sess.run(c, feed_dict = {a : np.ones((2,2), dtype = np.float32)})"
      ],
      "execution_count": 0,
      "outputs": [
        {
          "output_type": "execute_result",
          "data": {
            "text/plain": [
              "array([[2., 2.],\n",
              "       [2., 2.]], dtype=float32)"
            ]
          },
          "metadata": {
            "tags": []
          },
          "execution_count": 23
        }
      ]
    },
    {
      "metadata": {
        "id": "THI0YVKaVQeT",
        "colab_type": "code",
        "outputId": "00c5c056-0a08-44d2-a0e0-729c4106e423",
        "colab": {
          "base_uri": "https://localhost:8080/",
          "height": 34
        }
      },
      "cell_type": "code",
      "source": [
        "sess.close()\n",
        "print(tf.get_default_session())"
      ],
      "execution_count": 0,
      "outputs": [
        {
          "output_type": "stream",
          "text": [
            "None\n"
          ],
          "name": "stdout"
        }
      ]
    },
    {
      "metadata": {
        "id": "lGwPo3lTDQjK",
        "colab_type": "text"
      },
      "cell_type": "markdown",
      "source": [
        "**Tensorboard Overview**"
      ]
    },
    {
      "metadata": {
        "id": "XB5GXL7hWKqc",
        "colab_type": "code",
        "colab": {}
      },
      "cell_type": "code",
      "source": [
        "tf.reset_default_graph()\n",
        "x = tf.get_variable(\"x\", shape = (), dtype = tf.float32)\n",
        "f = tf.square(x)"
      ],
      "execution_count": 0,
      "outputs": []
    },
    {
      "metadata": {
        "id": "C6q0B1GVDVcB",
        "colab_type": "code",
        "colab": {}
      },
      "cell_type": "code",
      "source": [
        "optimizer = tf.train.GradientDescentOptimizer(0.1)\n",
        "step = optimizer.minimize(f)"
      ],
      "execution_count": 0,
      "outputs": []
    },
    {
      "metadata": {
        "id": "AnQuruz-Fqpl",
        "colab_type": "code",
        "colab": {}
      },
      "cell_type": "code",
      "source": [
        "x_summary = tf.summary.scalar(\"current_x\", x)\n",
        "f_summary = tf.summary.scalar(\"current_f\", f)\n",
        "summaries = tf.summary.merge([x_summary, f_summary]) # tf.summary.merge_all()"
      ],
      "execution_count": 0,
      "outputs": []
    },
    {
      "metadata": {
        "id": "yzN69x4-Lycg",
        "colab_type": "code",
        "colab": {}
      },
      "cell_type": "code",
      "source": [
        "sess = tf.InteractiveSession()"
      ],
      "execution_count": 0,
      "outputs": []
    },
    {
      "metadata": {
        "id": "BlSmEYZKMGZ4",
        "colab_type": "code",
        "colab": {}
      },
      "cell_type": "code",
      "source": [
        "summary_writer = tf.summary.FileWriter(\"logs/1\", sess.graph)\n",
        "sess.run(tf.global_variables_initializer())\n",
        "for i in range(10):\n",
        "    _, current_summaries = sess.run([step, summaries])\n",
        "    summary_writer.add_summary(current_summaries, i)\n",
        "    summary_writer.flush()\n",
        "   "
      ],
      "execution_count": 0,
      "outputs": []
    },
    {
      "metadata": {
        "id": "78YJey7XNp7q",
        "colab_type": "code",
        "outputId": "ed4c3b6c-8b12-4f8f-b1cc-ee24e36feda8",
        "colab": {
          "base_uri": "https://localhost:8080/",
          "height": 34
        }
      },
      "cell_type": "code",
      "source": [
        "expose_port_on_colab(6006)"
      ],
      "execution_count": 0,
      "outputs": [
        {
          "output_type": "stream",
          "text": [
            "Open https://6daa91c3.ngrok.io to access your 6006 port\n"
          ],
          "name": "stdout"
        }
      ]
    },
    {
      "metadata": {
        "id": "9s_-yuyON8LR",
        "colab_type": "code",
        "colab": {}
      },
      "cell_type": "code",
      "source": [
        "sess.close()"
      ],
      "execution_count": 0,
      "outputs": []
    },
    {
      "metadata": {
        "id": "5x5gUPzyTb5Z",
        "colab_type": "text"
      },
      "cell_type": "markdown",
      "source": [
        "**Training a Linear Model**"
      ]
    },
    {
      "metadata": {
        "id": "PCBrEp3NTacx",
        "colab_type": "code",
        "outputId": "ae6e4abe-6560-4aaf-db8f-f8e6172634a2",
        "colab": {
          "base_uri": "https://localhost:8080/",
          "height": 51
        }
      },
      "cell_type": "code",
      "source": [
        "# Generate Model Data\n",
        "num_example = 5000\n",
        "dimentions = 3\n",
        "x = np.random.randn(num_example, dimentions)\n",
        "w = np.random.randn(dimentions, 1)\n",
        "y = x @ w + np.random.randn(num_example, 1) * 0.2\n",
        "print(x.shape, y.shape)\n",
        "print(w.T)"
      ],
      "execution_count": 0,
      "outputs": [
        {
          "output_type": "stream",
          "text": [
            "(5000, 3) (5000, 1)\n",
            "[[-1.326585   -0.77140262  0.31354077]]\n"
          ],
          "name": "stdout"
        }
      ]
    },
    {
      "metadata": {
        "id": "WF8_7YwwTgAJ",
        "colab_type": "code",
        "outputId": "356e35ff-09f3-4abd-8ba6-a3616feb2565",
        "colab": {
          "base_uri": "https://localhost:8080/",
          "height": 34
        }
      },
      "cell_type": "code",
      "source": [
        "tf.reset_default_graph()\n",
        "\n",
        "features = tf.placeholder(shape = (None, dimentions), dtype = tf.float32)\n",
        "target = tf.placeholder(shape = (None, 1), dtype = tf.float32)\n",
        "weights = tf.get_variable(\"w\", shape = (dimentions, 1), dtype = tf.float32)\n",
        "\n",
        "predictions = features @ weights\n",
        "\n",
        "loss = tf.reduce_mean((target - predictions) ** 2)\n",
        "loss_summary = tf.summary.scalar(\"current_loss\", loss)\n",
        "\n",
        "print(target.shape, predictions.shape, loss.shape)\n"
      ],
      "execution_count": 0,
      "outputs": [
        {
          "output_type": "stream",
          "text": [
            "(?, 1) (?, 1) ()\n"
          ],
          "name": "stdout"
        }
      ]
    },
    {
      "metadata": {
        "id": "IvxWKgH5a6aE",
        "colab_type": "code",
        "colab": {}
      },
      "cell_type": "code",
      "source": [
        "optimizer = tf.train.GradientDescentOptimizer(0.01)\n",
        "step = optimizer.minimize(loss)"
      ],
      "execution_count": 0,
      "outputs": []
    },
    {
      "metadata": {
        "id": "vionOonlmmTX",
        "colab_type": "code",
        "colab": {}
      },
      "cell_type": "code",
      "source": [
        "sess = tf.InteractiveSession()"
      ],
      "execution_count": 0,
      "outputs": []
    },
    {
      "metadata": {
        "id": "DJ6D2iwGi197",
        "colab_type": "code",
        "colab": {}
      },
      "cell_type": "code",
      "source": [
        "summary_writer = tf.summary.FileWriter(\"logs/1\", sess.graph)\n",
        "sess.run(tf.global_variables_initializer())\n",
        "for i in range(600):\n",
        "    _, curr_loss, curr_weights, current_loss_summary = sess.run([step, loss, weights, loss_summary], feed_dict = {features : x, target : y})\n",
        "    summary_writer.add_summary(current_loss_summary, i)\n",
        "    summary_writer.flush()"
      ],
      "execution_count": 0,
      "outputs": []
    },
    {
      "metadata": {
        "id": "XuiU5VpBj8hG",
        "colab_type": "code",
        "outputId": "a435b996-f57e-40b4-a5c9-fe5051ccf0ec",
        "colab": {
          "base_uri": "https://localhost:8080/",
          "height": 34
        }
      },
      "cell_type": "code",
      "source": [
        "expose_port_on_colab(6006)"
      ],
      "execution_count": 0,
      "outputs": [
        {
          "output_type": "stream",
          "text": [
            "Open http://6daa91c3.ngrok.io to access your 6006 port\n"
          ],
          "name": "stdout"
        }
      ]
    },
    {
      "metadata": {
        "id": "WodeNnAVku4s",
        "colab_type": "code",
        "colab": {}
      },
      "cell_type": "code",
      "source": [
        "sess.close()"
      ],
      "execution_count": 0,
      "outputs": []
    },
    {
      "metadata": {
        "id": "AjUm3MVNkyty",
        "colab_type": "code",
        "colab": {}
      },
      "cell_type": "code",
      "source": [
        ""
      ],
      "execution_count": 0,
      "outputs": []
    }
  ]
}